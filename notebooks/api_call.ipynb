{
 "cells": [
  {
   "cell_type": "code",
   "execution_count": null,
   "metadata": {},
   "outputs": [],
   "source": [
    "# Installer les bibliothèques nécessaires si elles ne sont pas déjà installées\n",
    "!pip install pandas requests"
   ]
  },
  {
   "cell_type": "code",
   "execution_count": null,
   "metadata": {},
   "outputs": [
    {
     "ename": "",
     "evalue": "",
     "output_type": "error",
     "traceback": [
      "\u001b[1;31mLe noyau s’est bloqué lors de l’exécution du code dans une cellule active ou une cellule précédente. \n",
      "\u001b[1;31mVeuillez vérifier le code dans la ou les cellules pour identifier une cause possible de l’échec. \n",
      "\u001b[1;31mCliquez <a href='https://aka.ms/vscodeJupyterKernelCrash'>ici</a> pour plus d’informations. \n",
      "\u001b[1;31mPour plus d’informations, consultez Jupyter <a href='command:jupyter.viewOutput'>log</a>."
     ]
    }
   ],
   "source": [
    "\n",
    "\n",
    "import requests\n",
    "import pandas as pd\n",
    "\n",
    "# Func recup world bank data indicator\n",
    "def get_world_bank_data(indicator_code, country='all', format_type='json', date_range='2010:2021'):\n",
    "    \"\"\"\n",
    "    Récupère les données de l'indicateur donné pour tous les pays ou un pays spécifique\n",
    "    sur la période spécifiée.\n",
    "    \n",
    "    Parameters:\n",
    "    - indicator_code (str): Code de l'indicateur.\n",
    "    - country (str): Code du pays (par défaut 'all' pour tous les pays).\n",
    "    - format_type (str): Format de la réponse (par défaut 'json').\n",
    "    - date_range (str): Plage de dates (par défaut '2010:2021').\n",
    "    \n",
    "    Returns:\n",
    "    - pd.DataFrame: DataFrame contenant les données de l'indicateur.\n",
    "    \"\"\"\n",
    "    url = f\"https://api.worldbank.org/v2/country/{country}/indicator/{indicator_code}?date={date_range}&format={format_type}&per_page=500\"\n",
    "    response = requests.get(url)\n",
    "    \n",
    "    if response.status_code != 200:\n",
    "        print(f\"Erreur : Impossible de récupérer les données pour {indicator_code}\")\n",
    "        return pd.DataFrame()\n",
    "    \n",
    "    data = response.json()[1]  # Les données sont dans la deuxième partie de la réponse JSON\n",
    "    df = pd.json_normalize(data)\n",
    "    df = df[['country.value', 'date', 'value']]  # Garde seulement le pays, la date, et la valeur\n",
    "    df.columns = ['Country', 'Year', 'Value']  # Renomme les colonnes pour plus de clarté\n",
    "    \n",
    "    return df\n",
    "\n",
    "# Codes des indicateurs ESG pour Environnement, Social et Gouvernance\n",
    "indicators = {\n",
    "    'CO2 Emissions (metric tons per capita)': 'EN.ATM.CO2E.PC',\n",
    "    'Renewable Energy Consumption (% of total final energy consumption)': 'EG.FEC.RNEW.ZS',\n",
    "    'Forest Area (% of land area)': 'AG.LND.FRST.ZS',\n",
    "    'Access to Safe Water (% of population)': 'SH.H2O.SAFE.ZS',\n",
    "    'Life Expectancy at Birth': 'SP.DYN.LE00.IN',\n",
    "    'Primary School Enrollment (% gross)': 'SE.PRM.ENRR',\n",
    "    'Access to Health Services (% of population)': 'SH.ACC.SERV',\n",
    "    'Unemployment Rate (% of total labor force)': 'SL.UEM.TOTL.ZS'\n",
    "}\n",
    "\n",
    "# Récupération des données pour chaque indicateur\n",
    "esg_data = {}\n",
    "for name, code in indicators.items():\n",
    "    print(f\"Récupération des données pour l'indicateur : {name}\")\n",
    "    esg_data[name] = get_world_bank_data(code)\n",
    "\n",
    "# Afficher un exemple pour un indicateur\n",
    "indicator_example = 'CO2 Emissions (metric tons per capita)'\n",
    "print(f\"\\nDonnées pour l'indicateur : {indicator_example}\")\n",
    "esg_data[indicator_example].head()\n"
   ]
  }
 ],
 "metadata": {
  "kernelspec": {
   "display_name": "GreenMetric",
   "language": "python",
   "name": "python3"
  },
  "language_info": {
   "codemirror_mode": {
    "name": "ipython",
    "version": 3
   },
   "file_extension": ".py",
   "mimetype": "text/x-python",
   "name": "python",
   "nbconvert_exporter": "python",
   "pygments_lexer": "ipython3",
   "version": "3.12.7"
  }
 },
 "nbformat": 4,
 "nbformat_minor": 2
}
